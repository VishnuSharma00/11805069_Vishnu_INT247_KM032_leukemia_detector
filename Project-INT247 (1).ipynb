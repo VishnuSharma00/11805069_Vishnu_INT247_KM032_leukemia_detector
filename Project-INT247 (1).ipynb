{
 "cells": [
  {
   "cell_type": "markdown",
   "metadata": {},
   "source": [
    "# Leaukemia detection using Soft Computing Techniques\n"
   ]
  },
  {
   "cell_type": "markdown",
   "metadata": {},
   "source": [
    "# Importing Libraries to be used"
   ]
  },
  {
   "cell_type": "code",
   "execution_count": 29,
   "metadata": {},
   "outputs": [],
   "source": [
    "import numpy as np\n",
    "import matplotlib.pyplot as plt\n",
    "import pandas as pd\n",
    "from sklearn.preprocessing import StandardScaler\n",
    "from sklearn.model_selection import train_test_split\n",
    "from sklearn.decomposition import PCA\n",
    "from sklearn.neighbors import KNeighborsClassifier\n",
    "from sklearn.svm import SVC\n",
    "from sklearn.linear_model import LogisticRegression\n",
    "from sklearn.metrics import classification_report,confusion_matrix, accuracy_score"
   ]
  },
  {
   "cell_type": "code",
   "execution_count": 30,
   "metadata": {},
   "outputs": [
    {
     "data": {
      "text/html": [
       "<div>\n",
       "<style scoped>\n",
       "    .dataframe tbody tr th:only-of-type {\n",
       "        vertical-align: middle;\n",
       "    }\n",
       "\n",
       "    .dataframe tbody tr th {\n",
       "        vertical-align: top;\n",
       "    }\n",
       "\n",
       "    .dataframe thead th {\n",
       "        text-align: right;\n",
       "    }\n",
       "</style>\n",
       "<table border=\"1\" class=\"dataframe\">\n",
       "  <thead>\n",
       "    <tr style=\"text-align: right;\">\n",
       "      <th></th>\n",
       "      <th>0</th>\n",
       "      <th>1</th>\n",
       "      <th>2</th>\n",
       "      <th>3</th>\n",
       "      <th>4</th>\n",
       "      <th>5</th>\n",
       "      <th>6</th>\n",
       "      <th>7</th>\n",
       "      <th>8</th>\n",
       "      <th>9</th>\n",
       "      <th>...</th>\n",
       "      <th>7120</th>\n",
       "      <th>7121</th>\n",
       "      <th>7122</th>\n",
       "      <th>7123</th>\n",
       "      <th>7124</th>\n",
       "      <th>7125</th>\n",
       "      <th>7126</th>\n",
       "      <th>7127</th>\n",
       "      <th>7128</th>\n",
       "      <th>7129</th>\n",
       "    </tr>\n",
       "  </thead>\n",
       "  <tbody>\n",
       "    <tr>\n",
       "      <th>0</th>\n",
       "      <td>1</td>\n",
       "      <td>-4</td>\n",
       "      <td>-116</td>\n",
       "      <td>-125</td>\n",
       "      <td>241</td>\n",
       "      <td>-191</td>\n",
       "      <td>-411</td>\n",
       "      <td>-31</td>\n",
       "      <td>-240</td>\n",
       "      <td>150</td>\n",
       "      <td>...</td>\n",
       "      <td>173</td>\n",
       "      <td>755</td>\n",
       "      <td>-23</td>\n",
       "      <td>573</td>\n",
       "      <td>42</td>\n",
       "      <td>987</td>\n",
       "      <td>279</td>\n",
       "      <td>22</td>\n",
       "      <td>662</td>\n",
       "      <td>-46</td>\n",
       "    </tr>\n",
       "    <tr>\n",
       "      <th>1</th>\n",
       "      <td>1</td>\n",
       "      <td>15</td>\n",
       "      <td>-114</td>\n",
       "      <td>2</td>\n",
       "      <td>193</td>\n",
       "      <td>-51</td>\n",
       "      <td>-155</td>\n",
       "      <td>29</td>\n",
       "      <td>-105</td>\n",
       "      <td>42</td>\n",
       "      <td>...</td>\n",
       "      <td>173</td>\n",
       "      <td>492</td>\n",
       "      <td>54</td>\n",
       "      <td>277</td>\n",
       "      <td>-13</td>\n",
       "      <td>279</td>\n",
       "      <td>51</td>\n",
       "      <td>6</td>\n",
       "      <td>2484</td>\n",
       "      <td>-2</td>\n",
       "    </tr>\n",
       "    <tr>\n",
       "      <th>2</th>\n",
       "      <td>1</td>\n",
       "      <td>-318</td>\n",
       "      <td>-192</td>\n",
       "      <td>-95</td>\n",
       "      <td>312</td>\n",
       "      <td>-139</td>\n",
       "      <td>-344</td>\n",
       "      <td>324</td>\n",
       "      <td>-237</td>\n",
       "      <td>105</td>\n",
       "      <td>...</td>\n",
       "      <td>225</td>\n",
       "      <td>737</td>\n",
       "      <td>63</td>\n",
       "      <td>472</td>\n",
       "      <td>33</td>\n",
       "      <td>737</td>\n",
       "      <td>227</td>\n",
       "      <td>-9</td>\n",
       "      <td>371</td>\n",
       "      <td>-31</td>\n",
       "    </tr>\n",
       "    <tr>\n",
       "      <th>3</th>\n",
       "      <td>1</td>\n",
       "      <td>-32</td>\n",
       "      <td>-49</td>\n",
       "      <td>49</td>\n",
       "      <td>230</td>\n",
       "      <td>-367</td>\n",
       "      <td>-508</td>\n",
       "      <td>-349</td>\n",
       "      <td>-194</td>\n",
       "      <td>34</td>\n",
       "      <td>...</td>\n",
       "      <td>36</td>\n",
       "      <td>592</td>\n",
       "      <td>57</td>\n",
       "      <td>215</td>\n",
       "      <td>-22</td>\n",
       "      <td>588</td>\n",
       "      <td>361</td>\n",
       "      <td>-26</td>\n",
       "      <td>133</td>\n",
       "      <td>-32</td>\n",
       "    </tr>\n",
       "    <tr>\n",
       "      <th>4</th>\n",
       "      <td>1</td>\n",
       "      <td>-124</td>\n",
       "      <td>-79</td>\n",
       "      <td>-37</td>\n",
       "      <td>330</td>\n",
       "      <td>-188</td>\n",
       "      <td>-423</td>\n",
       "      <td>-31</td>\n",
       "      <td>-223</td>\n",
       "      <td>-82</td>\n",
       "      <td>...</td>\n",
       "      <td>348</td>\n",
       "      <td>938</td>\n",
       "      <td>-15</td>\n",
       "      <td>433</td>\n",
       "      <td>-2</td>\n",
       "      <td>1170</td>\n",
       "      <td>284</td>\n",
       "      <td>39</td>\n",
       "      <td>298</td>\n",
       "      <td>-3</td>\n",
       "    </tr>\n",
       "  </tbody>\n",
       "</table>\n",
       "<p>5 rows × 7130 columns</p>\n",
       "</div>"
      ],
      "text/plain": [
       "   0     1     2     3     4     5     6     7     8     9     ...  7120  \\\n",
       "0     1    -4  -116  -125   241  -191  -411   -31  -240   150  ...   173   \n",
       "1     1    15  -114     2   193   -51  -155    29  -105    42  ...   173   \n",
       "2     1  -318  -192   -95   312  -139  -344   324  -237   105  ...   225   \n",
       "3     1   -32   -49    49   230  -367  -508  -349  -194    34  ...    36   \n",
       "4     1  -124   -79   -37   330  -188  -423   -31  -223   -82  ...   348   \n",
       "\n",
       "   7121  7122  7123  7124  7125  7126  7127  7128  7129  \n",
       "0   755   -23   573    42   987   279    22   662   -46  \n",
       "1   492    54   277   -13   279    51     6  2484    -2  \n",
       "2   737    63   472    33   737   227    -9   371   -31  \n",
       "3   592    57   215   -22   588   361   -26   133   -32  \n",
       "4   938   -15   433    -2  1170   284    39   298    -3  \n",
       "\n",
       "[5 rows x 7130 columns]"
      ]
     },
     "execution_count": 30,
     "metadata": {},
     "output_type": "execute_result"
    }
   ],
   "source": [
    "patients = pd.read_csv('leukemiaPatients.csv',header=None)\n",
    "patients.head()"
   ]
  },
  {
   "cell_type": "code",
   "execution_count": 31,
   "metadata": {},
   "outputs": [
    {
     "name": "stdout",
     "output_type": "stream",
     "text": [
      "Shape of Feature set (72, 7129)\n",
      "Shape of target (72,)\n"
     ]
    }
   ],
   "source": [
    "x=patients.iloc[:,1:]\n",
    "y=patients.iloc[:,0]\n",
    "acc=[[0]*5]*2\n",
    "acc=np.zeros((2,5))\n",
    "print(\"Shape of Feature set\",x.shape)\n",
    "print(\"Shape of target\",y.shape)"
   ]
  },
  {
   "cell_type": "markdown",
   "metadata": {},
   "source": [
    "# Train Test Split"
   ]
  },
  {
   "cell_type": "code",
   "execution_count": 32,
   "metadata": {},
   "outputs": [],
   "source": [
    "X_train, X_test, y_train, y_test = train_test_split(x, y, test_size=0.3,random_state=0,stratify=y)"
   ]
  },
  {
   "cell_type": "markdown",
   "metadata": {},
   "source": [
    "# Scalling Features"
   ]
  },
  {
   "cell_type": "code",
   "execution_count": 33,
   "metadata": {},
   "outputs": [],
   "source": [
    "sc=StandardScaler()\n",
    "X_train =sc.fit_transform(X_train)\n",
    "X_test = sc.fit_transform(X_test)"
   ]
  },
  {
   "cell_type": "markdown",
   "metadata": {},
   "source": [
    "# Modals"
   ]
  },
  {
   "cell_type": "markdown",
   "metadata": {},
   "source": [
    "# Logistic Regression"
   ]
  },
  {
   "cell_type": "code",
   "execution_count": 34,
   "metadata": {},
   "outputs": [
    {
     "data": {
      "text/plain": [
       "LogisticRegression(C=50, class_weight='balanced')"
      ]
     },
     "execution_count": 34,
     "metadata": {},
     "output_type": "execute_result"
    }
   ],
   "source": [
    "logreg = LogisticRegression(solver='lbfgs',penalty='l2',class_weight='balanced',C=50)\n",
    "logreg.fit(X_train, y_train)"
   ]
  },
  {
   "cell_type": "code",
   "execution_count": 35,
   "metadata": {},
   "outputs": [
    {
     "name": "stdout",
     "output_type": "stream",
     "text": [
      "Train set predictions:\n",
      "[ 1 -1 -1  1 -1  1  1 -1 -1 -1  1 -1  1  1 -1  1 -1  1 -1 -1 -1 -1  1  1\n",
      " -1 -1 -1 -1 -1 -1 -1  1 -1  1 -1  1  1  1 -1  1 -1 -1 -1 -1  1 -1  1 -1\n",
      " -1 -1]\n",
      "Test set predictions:\n",
      "[-1 -1 -1 -1 -1  1 -1 -1  1  1 -1 -1 -1  1 -1 -1  1  1 -1  1  1 -1]\n"
     ]
    }
   ],
   "source": [
    "pred_train_logreg=logreg.predict(X_train)\n",
    "pred_test_logreg=logreg.predict(X_test)\n",
    "print(\"Train set predictions:\\n{}\".format(pred_train_logreg))\n",
    "print(\"Test set predictions:\\n{}\".format(pred_test_logreg))"
   ]
  },
  {
   "cell_type": "code",
   "execution_count": 36,
   "metadata": {},
   "outputs": [
    {
     "name": "stdout",
     "output_type": "stream",
     "text": [
      "Accuracy of Logistic Regression classifier on train set: 1.00\n",
      "Accuracy of Logistic Regression classifier on test set: 0.86\n",
      "[[1.         0.         0.         0.         0.        ]\n",
      " [0.86363636 0.         0.         0.         0.        ]]\n"
     ]
    }
   ],
   "source": [
    "print(\"Accuracy of Logistic Regression classifier on train set: %.2f\"%accuracy_score(pred_train_logreg,y_train))\n",
    "print(\"Accuracy of Logistic Regression classifier on test set: %.2f\"%accuracy_score(pred_test_logreg,y_test))\n",
    "acc[0][0]=accuracy_score(pred_train_logreg,y_train)\n",
    "acc[1][0]=accuracy_score(pred_test_logreg,y_test)\n",
    "print(acc)"
   ]
  },
  {
   "cell_type": "code",
   "execution_count": 37,
   "metadata": {},
   "outputs": [
    {
     "name": "stdout",
     "output_type": "stream",
     "text": [
      "[[12  1]\n",
      " [ 2  7]]\n",
      "              precision    recall  f1-score   support\n",
      "\n",
      "          -1       0.86      0.92      0.89        13\n",
      "           1       0.88      0.78      0.82         9\n",
      "\n",
      "    accuracy                           0.86        22\n",
      "   macro avg       0.87      0.85      0.86        22\n",
      "weighted avg       0.86      0.86      0.86        22\n",
      "\n"
     ]
    }
   ],
   "source": [
    "print(confusion_matrix(y_test, pred_test_logreg))\n",
    "print(classification_report(y_test, pred_test_logreg))"
   ]
  },
  {
   "cell_type": "markdown",
   "metadata": {},
   "source": [
    "# Principal Component Analysis"
   ]
  },
  {
   "cell_type": "code",
   "execution_count": 38,
   "metadata": {},
   "outputs": [],
   "source": [
    "pca = PCA(n_components=5)\n",
    "X_train = pca.fit_transform(X_train)\n",
    "X_test = pca.transform(X_test)"
   ]
  },
  {
   "cell_type": "markdown",
   "metadata": {},
   "source": [
    "# Support Vector Machine"
   ]
  },
  {
   "cell_type": "code",
   "execution_count": 39,
   "metadata": {},
   "outputs": [
    {
     "data": {
      "text/plain": [
       "SVC(degree=15)"
      ]
     },
     "execution_count": 39,
     "metadata": {},
     "output_type": "execute_result"
    }
   ],
   "source": [
    "svm = SVC(kernel='rbf',degree=15)\n",
    "svm.fit(X_train, y_train)"
   ]
  },
  {
   "cell_type": "code",
   "execution_count": 40,
   "metadata": {},
   "outputs": [
    {
     "name": "stdout",
     "output_type": "stream",
     "text": [
      "Train set predictions:\n",
      "[ 1 -1 -1  1 -1  1  1 -1 -1 -1 -1 -1  1 -1 -1  1 -1  1 -1 -1 -1 -1  1  1\n",
      " -1 -1 -1 -1 -1 -1 -1  1 -1 -1 -1  1 -1  1 -1  1 -1 -1 -1 -1  1 -1  1 -1\n",
      " -1 -1]\n",
      "Test set predictions:\n",
      "[-1 -1 -1 -1 -1  1 -1 -1  1  1 -1 -1 -1  1 -1 -1  1  1 -1 -1  1 -1]\n"
     ]
    }
   ],
   "source": [
    "pred_train_svm=svm.predict(X_train)\n",
    "pred_test_svm=svm.predict(X_test)\n",
    "print(\"Train set predictions:\\n{}\".format(pred_train_svm))\n",
    "print(\"Test set predictions:\\n{}\".format(pred_test_svm))"
   ]
  },
  {
   "cell_type": "code",
   "execution_count": 41,
   "metadata": {},
   "outputs": [
    {
     "name": "stdout",
     "output_type": "stream",
     "text": [
      "Accuracy of SVM classifier on train set: 0.92\n",
      "Accuracy of SVM classifier on test set: 0.91\n"
     ]
    }
   ],
   "source": [
    "print(\"Accuracy of SVM classifier on train set: %.2f\"%accuracy_score(pred_train_svm,y_train))\n",
    "print(\"Accuracy of SVM classifier on test set: %.2f\"%accuracy_score(pred_test_svm,y_test))\n",
    "acc[0][1]=accuracy_score(pred_train_svm,y_train)\n",
    "acc[1][1]=accuracy_score(pred_test_svm,y_test)"
   ]
  },
  {
   "cell_type": "code",
   "execution_count": 42,
   "metadata": {},
   "outputs": [
    {
     "name": "stdout",
     "output_type": "stream",
     "text": [
      "[[13  0]\n",
      " [ 2  7]]\n",
      "              precision    recall  f1-score   support\n",
      "\n",
      "          -1       0.87      1.00      0.93        13\n",
      "           1       1.00      0.78      0.88         9\n",
      "\n",
      "    accuracy                           0.91        22\n",
      "   macro avg       0.93      0.89      0.90        22\n",
      "weighted avg       0.92      0.91      0.91        22\n",
      "\n"
     ]
    }
   ],
   "source": [
    "print(confusion_matrix(y_test, pred_test_svm))\n",
    "print(classification_report(y_test, pred_test_svm))"
   ]
  },
  {
   "cell_type": "markdown",
   "metadata": {},
   "source": [
    "# KNearestNeighbours"
   ]
  },
  {
   "cell_type": "code",
   "execution_count": 43,
   "metadata": {},
   "outputs": [
    {
     "data": {
      "text/plain": [
       "KNeighborsClassifier(n_neighbors=4)"
      ]
     },
     "execution_count": 43,
     "metadata": {},
     "output_type": "execute_result"
    }
   ],
   "source": [
    "knn=KNeighborsClassifier(n_neighbors=4,p=2)\n",
    "knn.fit(X_train,y_train)"
   ]
  },
  {
   "cell_type": "code",
   "execution_count": 44,
   "metadata": {},
   "outputs": [
    {
     "name": "stdout",
     "output_type": "stream",
     "text": [
      "Train set predictions:\n",
      "[ 1 -1 -1  1 -1  1 -1 -1 -1 -1 -1 -1  1 -1 -1  1  1  1 -1 -1 -1 -1  1 -1\n",
      " -1 -1 -1 -1 -1 -1 -1  1 -1 -1 -1  1 -1  1 -1  1 -1 -1 -1 -1  1 -1  1 -1\n",
      " -1 -1]\n",
      "Test set predictions:\n",
      "[-1 -1 -1 -1 -1  1 -1 -1 -1  1 -1 -1 -1  1 -1 -1  1  1 -1 -1  1 -1]\n"
     ]
    }
   ],
   "source": [
    "pred_train_knn=knn.predict(X_train)\n",
    "pred_test_knn=knn.predict(X_test)\n",
    "print(\"Train set predictions:\\n{}\".format(pred_train_knn))\n",
    "print(\"Test set predictions:\\n{}\".format(pred_test_knn))"
   ]
  },
  {
   "cell_type": "code",
   "execution_count": 45,
   "metadata": {},
   "outputs": [
    {
     "name": "stdout",
     "output_type": "stream",
     "text": [
      "Accuracy of KNearest Neighbour classifier on train set: 0.86\n",
      "Accuracy of KNearest Neighbour classifier on test set: 0.86\n"
     ]
    }
   ],
   "source": [
    "print(\"Accuracy of KNearest Neighbour classifier on train set: %.2f\"%accuracy_score(pred_train_knn,y_train))\n",
    "print(\"Accuracy of KNearest Neighbour classifier on test set: %.2f\"%accuracy_score(pred_test_knn,y_test))\n",
    "acc[0][2]=accuracy_score(pred_train_knn,y_train)\n",
    "acc[1][2]=accuracy_score(pred_test_knn,y_test)"
   ]
  },
  {
   "cell_type": "code",
   "execution_count": 46,
   "metadata": {},
   "outputs": [
    {
     "data": {
      "text/plain": [
       "([<matplotlib.axis.XTick at 0x7f685b03ef40>,\n",
       "  <matplotlib.axis.XTick at 0x7f685b03ef10>,\n",
       "  <matplotlib.axis.XTick at 0x7f685b032a90>,\n",
       "  <matplotlib.axis.XTick at 0x7f685b0953d0>,\n",
       "  <matplotlib.axis.XTick at 0x7f685b0958e0>],\n",
       " [Text(0, 0, ''),\n",
       "  Text(0, 0, ''),\n",
       "  Text(0, 0, ''),\n",
       "  Text(0, 0, ''),\n",
       "  Text(0, 0, '')])"
      ]
     },
     "execution_count": 46,
     "metadata": {},
     "output_type": "execute_result"
    },
    {
     "data": {
      "image/png": "[encoded data removed]",
      "text/plain": [
       "<Figure size 432x288 with 1 Axes>"
      ]
     },
     "metadata": {
      "needs_background": "light"
     },
     "output_type": "display_data"
    }
   ],
   "source": [
    "k_range = range(1, 20)\n",
    "scores = []\n",
    "for k in k_range:\n",
    "    knn = KNeighborsClassifier(n_neighbors = k)\n",
    "    knn.fit(X_train, y_train)\n",
    "    scores.append(knn.score(X_test, y_test))\n",
    "plt.figure()\n",
    "plt.xlabel('k')\n",
    "plt.ylabel('accuracy')\n",
    "plt.scatter(k_range, scores)\n",
    "plt.xticks([0,5,10,15,20])"
   ]
  },
  {
   "cell_type": "code",
   "execution_count": 47,
   "metadata": {},
   "outputs": [
    {
     "name": "stdout",
     "output_type": "stream",
     "text": [
      "[[13  0]\n",
      " [ 3  6]]\n",
      "              precision    recall  f1-score   support\n",
      "\n",
      "          -1       0.81      1.00      0.90        13\n",
      "           1       1.00      0.67      0.80         9\n",
      "\n",
      "    accuracy                           0.86        22\n",
      "   macro avg       0.91      0.83      0.85        22\n",
      "weighted avg       0.89      0.86      0.86        22\n",
      "\n"
     ]
    }
   ],
   "source": [
    "print(confusion_matrix(y_test, pred_test_knn))\n",
    "print(classification_report(y_test, pred_test_knn))"
   ]
  },
  {
   "cell_type": "markdown",
   "metadata": {},
   "source": [
    "# Plotting Accuracy of Different Modals"
   ]
  },
  {
   "cell_type": "code",
   "execution_count": 48,
   "metadata": {},
   "outputs": [
    {
     "data": {
      "image/png": "[encoded data removed]",
      "text/plain": [
       "<Figure size 1080x576 with 1 Axes>"
      ]
     },
     "metadata": {
      "needs_background": "light"
     },
     "output_type": "display_data"
    }
   ],
   "source": [
    "n_groups = 3\n",
    "acc_trn = acc[0]\n",
    "acc_tst = acc[1]\n",
    "acc_trn=acc_trn[:-2]\n",
    "acc_tst=acc_tst[:-2]\n",
    "# create plot\n",
    "plt.figure(figsize=(15,8))\n",
    "index = np.arange(n_groups)\n",
    "bar_width = 0.35\n",
    "opacity = 0.8\n",
    "def display_percentage(bars):\n",
    "    for graph in bars:\n",
    "        height = graph.get_height()\n",
    "        plt.text(graph.get_x() + graph.get_width()/2., height,'%.3f' %float(round(height,3)),ha='center', va='bottom')\n",
    "\n",
    "train_bar = plt.bar(index, acc_trn, bar_width,alpha=opacity,color='b',label='Training Accuracy')\n",
    "display_percentage(train_bar)\n",
    "\n",
    "test_bar = plt.bar(index + bar_width, acc_tst, bar_width,alpha=opacity,color='g',label='Testing Accuracy')\n",
    "display_percentage(test_bar)\n",
    "\n",
    "plt.xlabel('Models Used')\n",
    "plt.ylabel('Accuracy Value')\n",
    "plt.title(\"Accuracy's Of Different Models\")\n",
    "plt.xticks(index + bar_width, ('Logistic Regression', 'Support Vector Machine', 'K Nearest Neighbours'))\n",
    "plt.legend()\n",
    "\n",
    "plt.tight_layout()\n",
    "plt.show()"
   ]
  },
  {
   "cell_type": "code",
   "execution_count": null,
   "metadata": {},
   "outputs": [],
   "source": []
  }
 ],
 "metadata": {
  "kernelspec": {
   "display_name": "Python 3",
   "language": "python",
   "name": "python3"
  },
  "language_info": {
   "codemirror_mode": {
    "name": "ipython",
    "version": 3
   },
   "file_extension": ".py",
   "mimetype": "text/x-python",
   "name": "python",
   "nbconvert_exporter": "python",
   "pygments_lexer": "ipython3",
   "version": "3.8.5"
  }
 },
 "nbformat": 4,
 "nbformat_minor": 2
}
